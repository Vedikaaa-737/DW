{
  "nbformat": 4,
  "nbformat_minor": 0,
  "metadata": {
    "colab": {
      "provenance": []
    },
    "kernelspec": {
      "name": "python3",
      "display_name": "Python 3"
    },
    "language_info": {
      "name": "python"
    }
  },
  "cells": [
    {
      "cell_type": "markdown",
      "source": [
        "**Load a Sample**"
      ],
      "metadata": {
        "id": "3oQygTdTZBK9"
      }
    },
    {
      "cell_type": "code",
      "execution_count": null,
      "metadata": {
        "colab": {
          "base_uri": "https://localhost:8080/"
        },
        "id": "x6Zn7i3OVvP-",
        "outputId": "badf761c-773b-41f9-ed7d-0ed4da93f65c"
      },
      "outputs": [
        {
          "output_type": "stream",
          "name": "stdout",
          "text": [
            "   pregnancies  glucose  diastolic  triceps  insulin   bmi    dpf  age  \\\n",
            "0            6      148         72       35        0  33.6  0.627   50   \n",
            "1            1       85         66       29        0  26.6  0.351   31   \n",
            "2            8      183         64        0        0  23.3  0.672   32   \n",
            "3            1       89         66       23       94  28.1  0.167   21   \n",
            "4            0      137         40       35      168  43.1  2.288   33   \n",
            "\n",
            "   diabetes  \n",
            "0         1  \n",
            "1         0  \n",
            "2         1  \n",
            "3         0  \n",
            "4         1  \n"
          ]
        }
      ],
      "source": [
        "import pandas as pd\n",
        "\n",
        "# Load the diabetes dataset (make sure the file is in your working directory)\n",
        "df = pd.read_csv(\"/content/Diabetes (1).csv\")\n",
        "print(df.head())\n"
      ]
    },
    {
      "cell_type": "markdown",
      "source": [
        " **Experiment 2: Create Sample Questionnaire-Based Domain Specific Dataset**"
      ],
      "metadata": {
        "id": "00_HAchlZJfz"
      }
    },
    {
      "cell_type": "code",
      "source": [
        "import pandas as pd\n",
        "\n",
        "# Creating a simple domain-specific dataset\n",
        "data = {\n",
        "    \"Age Group\": [\"18-25\", \"26-40\", \"41-60\", \"60+\"],\n",
        "    \"Exercise Regularly\": [\"Yes\", \"No\", \"Yes\", \"No\"],\n",
        "    \"Smokes\": [\"No\", \"Yes\", \"Yes\", \"No\"],\n",
        "    \"Has Diabetes\": [\"No\", \"No\", \"Yes\", \"Yes\"]\n",
        "}\n",
        "\n",
        "questionnaire_df = pd.DataFrame(data)\n",
        "print(questionnaire_df)\n"
      ],
      "metadata": {
        "colab": {
          "base_uri": "https://localhost:8080/"
        },
        "id": "PhsV5tsFZEw2",
        "outputId": "74ffc122-e483-4b53-d0a4-7984f13d3867"
      },
      "execution_count": null,
      "outputs": [
        {
          "output_type": "stream",
          "name": "stdout",
          "text": [
            "  Age Group Exercise Regularly Smokes Has Diabetes\n",
            "0     18-25                Yes     No           No\n",
            "1     26-40                 No    Yes           No\n",
            "2     41-60                Yes    Yes          Yes\n",
            "3       60+                 No     No          Yes\n"
          ]
        }
      ]
    },
    {
      "cell_type": "markdown",
      "source": [
        "**Experiment 3: Data Cleaning Techniques**"
      ],
      "metadata": {
        "id": "iLHjR5vUZUgi"
      }
    },
    {
      "cell_type": "code",
      "source": [
        "import numpy as np\n",
        "\n",
        "# Replace 0s in specific columns with NaN and then impute using median\n",
        "cols_with_zero_invalid = ['glucose', 'diastolic', 'triceps', 'insulin', 'bmi']\n",
        "df[cols_with_zero_invalid] = df[cols_with_zero_invalid].replace(0, np.nan)\n",
        "df.fillna(df.median(), inplace=True)\n",
        "\n",
        "print(df.isnull().sum())\n"
      ],
      "metadata": {
        "colab": {
          "base_uri": "https://localhost:8080/"
        },
        "id": "RrmVfl9xZUzf",
        "outputId": "9e69f1ae-acae-422f-8c80-24448e9c71bc"
      },
      "execution_count": null,
      "outputs": [
        {
          "output_type": "stream",
          "name": "stdout",
          "text": [
            "pregnancies    0\n",
            "glucose        0\n",
            "diastolic      0\n",
            "triceps        0\n",
            "insulin        0\n",
            "bmi            0\n",
            "dpf            0\n",
            "age            0\n",
            "diabetes       0\n",
            "dtype: int64\n"
          ]
        }
      ]
    },
    {
      "cell_type": "markdown",
      "source": [
        "**Experiment 4: Calculate Information Gain**"
      ],
      "metadata": {
        "id": "TSoCC_WkZVD3"
      }
    },
    {
      "cell_type": "code",
      "source": [
        "from sklearn.feature_selection import mutual_info_classif\n",
        "\n",
        "X = df.drop(\"diabetes\", axis=1)\n",
        "y = df[\"diabetes\"]\n",
        "\n",
        "info_gain = mutual_info_classif(X, y)\n",
        "\n",
        "for col, score in zip(X.columns, info_gain):\n",
        "    print(f\"Information Gain for {col}: {score:.4f}\")\n"
      ],
      "metadata": {
        "colab": {
          "base_uri": "https://localhost:8080/"
        },
        "id": "YSDd906lZVWO",
        "outputId": "222a3c3c-b452-42b5-b237-d30a2ba6a9b9"
      },
      "execution_count": null,
      "outputs": [
        {
          "output_type": "stream",
          "name": "stdout",
          "text": [
            "Information Gain for pregnancies: 0.0301\n",
            "Information Gain for glucose: 0.1329\n",
            "Information Gain for diastolic: 0.0282\n",
            "Information Gain for triceps: 0.0000\n",
            "Information Gain for insulin: 0.0243\n",
            "Information Gain for bmi: 0.0997\n",
            "Information Gain for dpf: 0.0165\n",
            "Information Gain for age: 0.0786\n"
          ]
        }
      ]
    },
    {
      "cell_type": "markdown",
      "source": [
        "**Experiment 5: Implement Naive Bayes, Decision Tree, and KNN**"
      ],
      "metadata": {
        "id": "b9n08qtLZVjg"
      }
    },
    {
      "cell_type": "code",
      "source": [
        "import pandas as pd\n",
        "from sklearn.model_selection import train_test_split\n",
        "from sklearn.naive_bayes import GaussianNB\n",
        "from sklearn.tree import DecisionTreeClassifier\n",
        "from sklearn.neighbors import KNeighborsClassifier\n",
        "from sklearn.metrics import classification_report\n",
        "\n",
        "# Clean the dataset\n",
        "cols_with_zero_invalid = ['glucose', 'diastolic', 'triceps', 'insulin', 'bmi']\n",
        "df[cols_with_zero_invalid] = df[cols_with_zero_invalid].replace(0, pd.NA)\n",
        "df.fillna(df.median(), inplace=True)\n",
        "\n",
        "# Prepare data\n",
        "X = df.drop(\"diabetes\", axis=1)\n",
        "y = df[\"diabetes\"]\n",
        "\n",
        "# Split into train and test sets\n",
        "X_train, X_test, y_train, y_test = train_test_split(X, y, test_size=0.2, random_state=42)\n",
        "\n",
        "# --- Naive Bayes ---\n",
        "nb = GaussianNB()\n",
        "nb.fit(X_train, y_train)\n",
        "pred_nb = nb.predict(X_test)\n",
        "print(\"===== Naive Bayes Classification Report =====\")\n",
        "print(classification_report(y_test, pred_nb))\n",
        "\n",
        "# --- Decision Tree ---\n",
        "dt = DecisionTreeClassifier()\n",
        "dt.fit(X_train, y_train)\n",
        "pred_dt = dt.predict(X_test)\n",
        "print(\"===== Decision Tree Classification Report =====\")\n",
        "print(classification_report(y_test, pred_dt))\n",
        "\n",
        "# --- K-Nearest Neighbors ---\n",
        "knn = KNeighborsClassifier(n_neighbors=5)\n",
        "knn.fit(X_train, y_train)\n",
        "pred_knn = knn.predict(X_test)\n",
        "print(\"===== KNN Classification Report =====\")\n",
        "print(classification_report(y_test, pred_knn))\n"
      ],
      "metadata": {
        "colab": {
          "base_uri": "https://localhost:8080/"
        },
        "id": "GgjM8TdkZV0C",
        "outputId": "cf1da30d-9dd6-4120-ce04-252ea7c0d4e1"
      },
      "execution_count": null,
      "outputs": [
        {
          "output_type": "stream",
          "name": "stdout",
          "text": [
            "===== Naive Bayes Classification Report =====\n",
            "              precision    recall  f1-score   support\n",
            "\n",
            "           0       0.81      0.80      0.81        99\n",
            "           1       0.65      0.67      0.66        55\n",
            "\n",
            "    accuracy                           0.75       154\n",
            "   macro avg       0.73      0.74      0.73       154\n",
            "weighted avg       0.76      0.75      0.75       154\n",
            "\n",
            "===== Decision Tree Classification Report =====\n",
            "              precision    recall  f1-score   support\n",
            "\n",
            "           0       0.78      0.77      0.77        99\n",
            "           1       0.59      0.60      0.59        55\n",
            "\n",
            "    accuracy                           0.71       154\n",
            "   macro avg       0.68      0.68      0.68       154\n",
            "weighted avg       0.71      0.71      0.71       154\n",
            "\n",
            "===== KNN Classification Report =====\n",
            "              precision    recall  f1-score   support\n",
            "\n",
            "           0       0.77      0.71      0.74        99\n",
            "           1       0.54      0.62      0.58        55\n",
            "\n",
            "    accuracy                           0.68       154\n",
            "   macro avg       0.65      0.66      0.66       154\n",
            "weighted avg       0.69      0.68      0.68       154\n",
            "\n"
          ]
        }
      ]
    },
    {
      "cell_type": "markdown",
      "source": [
        "**Experiment 6: Compare Classification Results**"
      ],
      "metadata": {
        "id": "qbY4UgwdaL_i"
      }
    },
    {
      "cell_type": "code",
      "source": [
        "from sklearn.metrics import accuracy_score\n",
        "\n",
        "print(\"Accuracy - Naive Bayes:\", accuracy_score(y_test, pred_nb))\n",
        "print(\"Accuracy - Decision Tree:\", accuracy_score(y_test, pred_dt))\n",
        "print(\"Accuracy - KNN:\", accuracy_score(y_test, pred_knn))\n"
      ],
      "metadata": {
        "colab": {
          "base_uri": "https://localhost:8080/"
        },
        "id": "4VKkbDjhaKj8",
        "outputId": "f3e301f9-e9f9-46f2-c131-b8a62014066a"
      },
      "execution_count": null,
      "outputs": [
        {
          "output_type": "stream",
          "name": "stdout",
          "text": [
            "Accuracy - Naive Bayes: 0.7532467532467533\n",
            "Accuracy - Decision Tree: 0.7077922077922078\n",
            "Accuracy - KNN: 0.6753246753246753\n"
          ]
        }
      ]
    },
    {
      "cell_type": "markdown",
      "source": [
        "**Experiment 7: Outlier Detection and Removal**"
      ],
      "metadata": {
        "id": "Q5B1JlhGaTJQ"
      }
    },
    {
      "cell_type": "code",
      "source": [
        "# Use IQR method to detect outliers\n",
        "Q1 = df.quantile(0.25)\n",
        "Q3 = df.quantile(0.75)\n",
        "IQR = Q3 - Q1\n",
        "\n",
        "df_no_outliers = df[~((df < (Q1 - 1.5 * IQR)) | (df > (Q3 + 1.5 * IQR))).any(axis=1)]\n",
        "\n",
        "print(\"Original shape:\", df.shape)\n",
        "print(\"After removing outliers:\", df_no_outliers.shape)\n"
      ],
      "metadata": {
        "colab": {
          "base_uri": "https://localhost:8080/"
        },
        "id": "OYKM28X_aYDK",
        "outputId": "2ec7073e-6495-48ca-e4d6-413209afa6fa"
      },
      "execution_count": null,
      "outputs": [
        {
          "output_type": "stream",
          "name": "stdout",
          "text": [
            "Original shape: (768, 9)\n",
            "After removing outliers: (375, 9)\n"
          ]
        }
      ]
    },
    {
      "cell_type": "markdown",
      "source": [
        "**Experiment 8: Apriori Algorithm for Frequent Itemset**"
      ],
      "metadata": {
        "id": "rCaOFN3maTfU"
      }
    },
    {
      "cell_type": "code",
      "source": [
        "from mlxtend.preprocessing import TransactionEncoder\n",
        "from mlxtend.frequent_patterns import apriori, association_rules\n",
        "\n",
        "# Convert numerical features into categorical for transaction format\n",
        "df_apriori = df.copy()\n",
        "df_apriori = df_apriori.apply(lambda x: pd.cut(x, bins=2, labels=[\"Low\", \"High\"]))\n",
        "\n",
        "transactions = df_apriori.astype(str).values.tolist()\n",
        "\n",
        "te = TransactionEncoder()\n",
        "te_ary = te.fit_transform(transactions)\n",
        "\n",
        "df_trans = pd.DataFrame(te_ary, columns=te.columns_)\n",
        "frequent_itemsets = apriori(df_trans, min_support=0.3, use_colnames=True)\n",
        "\n",
        "print(frequent_itemsets)\n"
      ],
      "metadata": {
        "colab": {
          "base_uri": "https://localhost:8080/"
        },
        "id": "fJ4mW4rOacM7",
        "outputId": "38628881-5be8-4642-f1fd-5cb4fd2ccd78"
      },
      "execution_count": null,
      "outputs": [
        {
          "output_type": "stream",
          "name": "stdout",
          "text": [
            "    support     itemsets\n",
            "0  0.733073       (High)\n",
            "1  1.000000        (Low)\n",
            "2  0.733073  (Low, High)\n"
          ]
        }
      ]
    },
    {
      "cell_type": "markdown",
      "source": [
        "**Experiment 9: Basic Statistics Using a Statistical Tool (Pandas)**"
      ],
      "metadata": {
        "id": "NaztXuFmafya"
      }
    },
    {
      "cell_type": "code",
      "source": [
        "# Describe basic statistical information\n",
        "print(df.describe())\n"
      ],
      "metadata": {
        "colab": {
          "base_uri": "https://localhost:8080/"
        },
        "id": "YuHVK1K2aeVY",
        "outputId": "a8d6976e-e614-43a2-c02d-fa183090492d"
      },
      "execution_count": null,
      "outputs": [
        {
          "output_type": "stream",
          "name": "stdout",
          "text": [
            "       pregnancies     glucose   diastolic     triceps     insulin  \\\n",
            "count   768.000000  768.000000  768.000000  768.000000  768.000000   \n",
            "mean      3.845052  121.656250   72.386719   29.108073  140.671875   \n",
            "std       3.369578   30.438286   12.096642    8.791221   86.383060   \n",
            "min       0.000000   44.000000   24.000000    7.000000   14.000000   \n",
            "25%       1.000000   99.750000   64.000000   25.000000  121.500000   \n",
            "50%       3.000000  117.000000   72.000000   29.000000  125.000000   \n",
            "75%       6.000000  140.250000   80.000000   32.000000  127.250000   \n",
            "max      17.000000  199.000000  122.000000   99.000000  846.000000   \n",
            "\n",
            "              bmi         dpf         age    diabetes  \n",
            "count  768.000000  768.000000  768.000000  768.000000  \n",
            "mean    32.455208    0.471876   33.240885    0.348958  \n",
            "std      6.875177    0.331329   11.760232    0.476951  \n",
            "min     18.200000    0.078000   21.000000    0.000000  \n",
            "25%     27.500000    0.243750   24.000000    0.000000  \n",
            "50%     32.300000    0.372500   29.000000    0.000000  \n",
            "75%     36.600000    0.626250   41.000000    1.000000  \n",
            "max     67.100000    2.420000   81.000000    1.000000  \n"
          ]
        }
      ]
    }
  ]
}